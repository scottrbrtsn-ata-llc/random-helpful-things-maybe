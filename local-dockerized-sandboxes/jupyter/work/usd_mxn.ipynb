{
 "cells": [
  {
   "cell_type": "code",
   "execution_count": 1,
   "id": "ddce2cd1-1df7-4bcb-8d5f-325ec9c02dde",
   "metadata": {
    "tags": []
   },
   "outputs": [],
   "source": [
    "import torch, torchhd"
   ]
  },
  {
   "cell_type": "code",
   "execution_count": 2,
   "id": "36c56aa6-7bf6-4564-910f-ac055bd0f282",
   "metadata": {
    "tags": []
   },
   "outputs": [
    {
     "data": {
      "text/plain": [
       "MAPTensor([[-1.,  1.,  1.,  ..., -1., -1., -1.],\n",
       "           [ 1.,  1., -1.,  ...,  1., -1., -1.],\n",
       "           [ 1., -1., -1.,  ..., -1.,  1.,  1.]])"
      ]
     },
     "execution_count": 2,
     "metadata": {},
     "output_type": "execute_result"
    }
   ],
   "source": [
    "d = 10000\n",
    "\n",
    "# create the hypervectors for each symbol\n",
    "keys = torchhd.random(3, d)\n",
    "country, capital, currency = keys\n",
    "\n",
    "keys"
   ]
  },
  {
   "cell_type": "code",
   "execution_count": 12,
   "id": "1f3e5739-aa93-4a66-bebe-8e2b71120703",
   "metadata": {
    "tags": []
   },
   "outputs": [
    {
     "data": {
      "text/plain": [
       "MAPTensor([ 1.,  1., -1.,  ...,  1.,  1.,  1.])"
      ]
     },
     "execution_count": 12,
     "metadata": {},
     "output_type": "execute_result"
    }
   ],
   "source": [
    "usa, mex = torchhd.random(2, d)  # United States and Mexico\n",
    "wdc, mxc = torchhd.random(2, d)  # Washington D.C. and Mexico City\n",
    "usd, mxn = torchhd.random(2, d)  # US Dollar and Mexican Peso\n",
    "\n",
    "usd"
   ]
  },
  {
   "cell_type": "code",
   "execution_count": 6,
   "id": "553a14ec-2eb9-4ef6-9523-d3d859a87fa1",
   "metadata": {
    "tags": []
   },
   "outputs": [],
   "source": [
    "# create country representations\n",
    "us_values = torch.stack([usa, wdc, usd])\n",
    "us = torchhd.hash_table(keys, us_values)\n",
    "\n",
    "mx_values = torch.stack([mex, mxc, mxn])\n",
    "mx = torchhd.hash_table(keys, mx_values)"
   ]
  },
  {
   "cell_type": "code",
   "execution_count": 8,
   "id": "d22986dc-46f9-4b27-97f3-48643205cc46",
   "metadata": {
    "tags": []
   },
   "outputs": [
    {
     "data": {
      "text/plain": [
       "MAPTensor([ 1., -3.,  3.,  ...,  1.,  3., -3.])"
      ]
     },
     "execution_count": 8,
     "metadata": {},
     "output_type": "execute_result"
    }
   ],
   "source": [
    "# combine all the associated information\n",
    "mx_us = torchhd.bind(torchhd.inverse(us), mx)\n",
    "\n",
    "mx_us"
   ]
  },
  {
   "cell_type": "code",
   "execution_count": 9,
   "id": "7797f7af-63cb-43d0-bdcb-a04c73666921",
   "metadata": {
    "tags": []
   },
   "outputs": [],
   "source": [
    "# query for the dollar of mexico\n",
    "usd_of_mex = torchhd.bind(mx_us, usd)"
   ]
  },
  {
   "cell_type": "code",
   "execution_count": 10,
   "id": "a8765453-1245-412f-9844-a3be1058110e",
   "metadata": {
    "tags": []
   },
   "outputs": [
    {
     "data": {
      "text/plain": [
       "MAPTensor([-1.,  3., -3.,  ...,  1.,  3.,  3.])"
      ]
     },
     "execution_count": 10,
     "metadata": {},
     "output_type": "execute_result"
    }
   ],
   "source": [
    "usd_of_mex"
   ]
  },
  {
   "cell_type": "code",
   "execution_count": null,
   "id": "426bf56d-4ee0-4870-835e-824aaefba0c1",
   "metadata": {},
   "outputs": [],
   "source": []
  }
 ],
 "metadata": {
  "kernelspec": {
   "display_name": "Python 3 (ipykernel)",
   "language": "python",
   "name": "python3"
  },
  "language_info": {
   "codemirror_mode": {
    "name": "ipython",
    "version": 3
   },
   "file_extension": ".py",
   "mimetype": "text/x-python",
   "name": "python",
   "nbconvert_exporter": "python",
   "pygments_lexer": "ipython3",
   "version": "3.10.6"
  }
 },
 "nbformat": 4,
 "nbformat_minor": 5
}
