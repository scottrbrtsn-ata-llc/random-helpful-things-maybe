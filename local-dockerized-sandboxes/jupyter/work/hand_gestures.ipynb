{
 "cells": [
  {
   "cell_type": "code",
   "execution_count": 3,
   "id": "4738870a-29c1-4a81-8e31-afa4893b3fd2",
   "metadata": {
    "tags": []
   },
   "outputs": [
    {
     "name": "stderr",
     "output_type": "stream",
     "text": [
      "2023-06-12 16:13:17.920967: W tensorflow/compiler/tf2tensorrt/utils/py_utils.cc:38] TF-TRT Warning: Could not find TensorRT\n"
     ]
    },
    {
     "ename": "ModuleNotFoundError",
     "evalue": "No module named 'torchmetrics'",
     "output_type": "error",
     "traceback": [
      "\u001b[0;31m---------------------------------------------------------------------------\u001b[0m",
      "\u001b[0;31mModuleNotFoundError\u001b[0m                       Traceback (most recent call last)",
      "Cell \u001b[0;32mIn[3], line 9\u001b[0m\n\u001b[1;32m      6\u001b[0m \u001b[38;5;28;01mimport\u001b[39;00m \u001b[38;5;21;01mtorch\u001b[39;00m\u001b[38;5;21;01m.\u001b[39;00m\u001b[38;5;21;01mutils\u001b[39;00m\u001b[38;5;21;01m.\u001b[39;00m\u001b[38;5;21;01mdata\u001b[39;00m \u001b[38;5;28;01mas\u001b[39;00m \u001b[38;5;21;01mdata\u001b[39;00m\n\u001b[1;32m      8\u001b[0m \u001b[38;5;66;03m# Note: this example requires the torchmetrics library: https://torchmetrics.readthedocs.io\u001b[39;00m\n\u001b[0;32m----> 9\u001b[0m \u001b[38;5;28;01mimport\u001b[39;00m \u001b[38;5;21;01mtorchmetrics\u001b[39;00m\n\u001b[1;32m     10\u001b[0m \u001b[38;5;28;01mfrom\u001b[39;00m \u001b[38;5;21;01mtqdm\u001b[39;00m \u001b[38;5;28;01mimport\u001b[39;00m tqdm\n\u001b[1;32m     12\u001b[0m \u001b[38;5;28;01mimport\u001b[39;00m \u001b[38;5;21;01mtorchhd\u001b[39;00m\n",
      "\u001b[0;31mModuleNotFoundError\u001b[0m: No module named 'torchmetrics'"
     ]
    }
   ],
   "source": [
    "import spacy_transformers\n",
    "\n",
    "import torch\n",
    "import torch.nn as nn\n",
    "import torch.nn.functional as F\n",
    "import torch.utils.data as data\n",
    "\n",
    "# Note: this example requires the torchmetrics library: https://torchmetrics.readthedocs.io\n",
    "import torchmetrics\n",
    "from tqdm import tqdm\n",
    "\n",
    "import torchhd\n",
    "from torchhd import embeddings\n",
    "from torchhd.models import Centroid\n",
    "from torchhd.datasets import EMGHandGestures"
   ]
  },
  {
   "cell_type": "code",
   "execution_count": null,
   "id": "b63f7c2a-4aae-4578-be92-de9a0dd6b362",
   "metadata": {
    "tags": []
   },
   "outputs": [],
   "source": [
    "import pandas as pd"
   ]
  },
  {
   "cell_type": "code",
   "execution_count": 6,
   "id": "49566bcb-e070-4a58-8b96-e29ab98647c8",
   "metadata": {
    "tags": []
   },
   "outputs": [
    {
     "name": "stdout",
     "output_type": "stream",
     "text": [
      "Using cpu device\n"
     ]
    }
   ],
   "source": [
    "device = torch.device(\"cuda\" if torch.cuda.is_available() else \"cpu\")\n",
    "print(\"Using {} device\".format(device))\n",
    "\n",
    "DIMENSIONS = 10000  # number of hypervector dimensions\n",
    "NUM_LEVELS = 21\n",
    "BATCH_SIZE = 1  # for GPUs with enough memory we can process multiple images at ones\n",
    "WINDOW = 256\n",
    "N_GRAM_SIZE = 4\n",
    "DOWNSAMPLE = 5\n",
    "SUBSAMPLES = torch.arange(0, WINDOW, int(WINDOW / DOWNSAMPLE))\n",
    "\n",
    "\n",
    "def transform(x):\n",
    "    return x[SUBSAMPLES]\n",
    "\n",
    "\n",
    "class Encoder(nn.Module):\n",
    "    def __init__(self, out_features, timestamps, channels):\n",
    "        super(Encoder, self).__init__()\n",
    "\n",
    "        self.channels = embeddings.Random(channels, out_features)\n",
    "        self.timestamps = embeddings.Random(timestamps, out_features)\n",
    "        self.signals = embeddings.Level(NUM_LEVELS, out_features, high=20)\n",
    "\n",
    "    def forward(self, input: torch.Tensor) -> torch.Tensor:\n",
    "        signal = self.signals(input)\n",
    "        samples = torchhd.bind(signal, self.channels.weight.unsqueeze(0))\n",
    "        samples = torchhd.bind(samples, self.timestamps.weight.unsqueeze(1))\n",
    "\n",
    "        samples = torchhd.multiset(samples)\n",
    "        sample_hv = torchhd.ngrams(samples, n=N_GRAM_SIZE)\n",
    "        return torchhd.hard_quantize(sample_hv)\n",
    "\n",
    "\n",
    "def train(subjects=[0]):\n",
    "    print(\"List of subjects \" + str(subjects))\n",
    "    ds = EMGHandGestures(\n",
    "        \"../data\", download=True, subjects=subjects, transform=transform\n",
    "    )\n",
    "\n",
    "    train_size = int(len(ds) * 0.7)\n",
    "    test_size = len(ds) - train_size\n",
    "    train_ds, test_ds = data.random_split(ds, [train_size, test_size])\n",
    "\n",
    "    train_ld = data.DataLoader(train_ds, batch_size=BATCH_SIZE, shuffle=True)\n",
    "    test_ld = data.DataLoader(test_ds, batch_size=BATCH_SIZE, shuffle=False)\n",
    "\n",
    "    encode = Encoder(DIMENSIONS, ds[0][0].size(-2), ds[0][0].size(-1))\n",
    "    encode = encode.to(device)\n",
    "\n",
    "    num_classes = len(ds.classes)\n",
    "    model = Centroid(DIMENSIONS, num_classes)\n",
    "    model = model.to(device)\n",
    "\n",
    "    with torch.no_grad():\n",
    "        for samples, targets in tqdm(train_ld, desc=\"Training\"):\n",
    "            samples = samples.to(device)\n",
    "            targets = targets.to(device)\n",
    "\n",
    "            sample_hv = encode(samples)\n",
    "            model.add(sample_hv, targets)\n",
    "\n",
    "    accuracy = torchmetrics.Accuracy(\"multiclass\", num_classes=num_classes)\n",
    "\n",
    "    with torch.no_grad():\n",
    "        model.normalize()\n",
    "\n",
    "        for samples, targets in tqdm(test_ld, desc=\"Testing\"):\n",
    "            samples = samples.to(device)\n",
    "\n",
    "            sample_hv = encode(samples)\n",
    "            output = model(sample_hv, dot=True)\n",
    "            accuracy.update(output.cpu(), targets)\n",
    "\n",
    "    print(f\"Testing accuracy of {(accuracy.compute().item() * 100):.3f}%\")\n"
   ]
  },
  {
   "cell_type": "code",
   "execution_count": 7,
   "id": "feb17709-ccc1-4a72-beee-9114e2bc90ad",
   "metadata": {
    "tags": []
   },
   "outputs": [
    {
     "name": "stdout",
     "output_type": "stream",
     "text": [
      "List of subjects [0]\n",
      "Files already downloaded and verified\n"
     ]
    },
    {
     "name": "stderr",
     "output_type": "stream",
     "text": [
      "Training: 100%|██████████| 368/368 [00:00<00:00, 643.22it/s]\n",
      "Testing: 100%|██████████| 158/158 [00:00<00:00, 460.32it/s]\n"
     ]
    },
    {
     "name": "stdout",
     "output_type": "stream",
     "text": [
      "Testing accuracy of 99.367%\n",
      "List of subjects [1]\n",
      "Files already downloaded and verified\n"
     ]
    },
    {
     "name": "stderr",
     "output_type": "stream",
     "text": [
      "Training: 100%|██████████| 345/345 [00:00<00:00, 616.07it/s]\n",
      "Testing: 100%|██████████| 148/148 [00:00<00:00, 490.54it/s]\n"
     ]
    },
    {
     "name": "stdout",
     "output_type": "stream",
     "text": [
      "Testing accuracy of 97.297%\n",
      "List of subjects [2]\n",
      "Files already downloaded and verified\n"
     ]
    },
    {
     "name": "stderr",
     "output_type": "stream",
     "text": [
      "Training: 100%|██████████| 338/338 [00:00<00:00, 673.25it/s]\n",
      "Testing: 100%|██████████| 145/145 [00:00<00:00, 501.57it/s]\n"
     ]
    },
    {
     "name": "stdout",
     "output_type": "stream",
     "text": [
      "Testing accuracy of 99.310%\n",
      "List of subjects [3]\n",
      "Files already downloaded and verified\n"
     ]
    },
    {
     "name": "stderr",
     "output_type": "stream",
     "text": [
      "Training: 100%|██████████| 333/333 [00:00<00:00, 667.00it/s]\n",
      "Testing: 100%|██████████| 143/143 [00:00<00:00, 419.47it/s]\n"
     ]
    },
    {
     "name": "stdout",
     "output_type": "stream",
     "text": [
      "Testing accuracy of 97.902%\n",
      "List of subjects [4]\n",
      "Files already downloaded and verified\n"
     ]
    },
    {
     "name": "stderr",
     "output_type": "stream",
     "text": [
      "Training: 100%|██████████| 235/235 [00:00<00:00, 651.75it/s]\n",
      "Testing: 100%|██████████| 101/101 [00:00<00:00, 410.90it/s]"
     ]
    },
    {
     "name": "stdout",
     "output_type": "stream",
     "text": [
      "Testing accuracy of 98.020%\n"
     ]
    },
    {
     "name": "stderr",
     "output_type": "stream",
     "text": [
      "\n"
     ]
    }
   ],
   "source": [
    "# Make a model for each subject\n",
    "for i in range(5):\n",
    "    experiment([i])"
   ]
  },
  {
   "cell_type": "code",
   "execution_count": 10,
   "id": "63d08d43-6fc0-414f-8a0c-43a75c9abed1",
   "metadata": {
    "tags": []
   },
   "outputs": [
    {
     "name": "stdout",
     "output_type": "stream",
     "text": [
      "Files already downloaded and verified\n"
     ]
    }
   ],
   "source": [
    "ds = EMGHandGestures(\n",
    "        \"../data\", download=True, subjects=[0], transform=transform\n",
    "    )"
   ]
  },
  {
   "cell_type": "code",
   "execution_count": 14,
   "id": "1dddf777-bb2a-4489-8d4f-52071665a282",
   "metadata": {
    "tags": []
   },
   "outputs": [
    {
     "data": {
      "text/html": [
       "<div>\n",
       "<style scoped>\n",
       "    .dataframe tbody tr th:only-of-type {\n",
       "        vertical-align: middle;\n",
       "    }\n",
       "\n",
       "    .dataframe tbody tr th {\n",
       "        vertical-align: top;\n",
       "    }\n",
       "\n",
       "    .dataframe thead th {\n",
       "        text-align: right;\n",
       "    }\n",
       "</style>\n",
       "<table border=\"1\" class=\"dataframe\">\n",
       "  <thead>\n",
       "    <tr style=\"text-align: right;\">\n",
       "      <th></th>\n",
       "      <th>0</th>\n",
       "      <th>0.1</th>\n",
       "      <th>0.2</th>\n",
       "      <th>0.3</th>\n",
       "    </tr>\n",
       "  </thead>\n",
       "  <tbody>\n",
       "    <tr>\n",
       "      <th>0</th>\n",
       "      <td>0.009406</td>\n",
       "      <td>0.000963</td>\n",
       "      <td>0.000344</td>\n",
       "      <td>0.000144</td>\n",
       "    </tr>\n",
       "    <tr>\n",
       "      <th>1</th>\n",
       "      <td>0.019387</td>\n",
       "      <td>0.001922</td>\n",
       "      <td>0.000728</td>\n",
       "      <td>0.000299</td>\n",
       "    </tr>\n",
       "    <tr>\n",
       "      <th>2</th>\n",
       "      <td>0.029962</td>\n",
       "      <td>0.002871</td>\n",
       "      <td>0.001077</td>\n",
       "      <td>0.000471</td>\n",
       "    </tr>\n",
       "    <tr>\n",
       "      <th>3</th>\n",
       "      <td>0.041019</td>\n",
       "      <td>0.003817</td>\n",
       "      <td>0.001441</td>\n",
       "      <td>0.000610</td>\n",
       "    </tr>\n",
       "    <tr>\n",
       "      <th>4</th>\n",
       "      <td>0.052452</td>\n",
       "      <td>0.004767</td>\n",
       "      <td>0.001764</td>\n",
       "      <td>0.000747</td>\n",
       "    </tr>\n",
       "    <tr>\n",
       "      <th>...</th>\n",
       "      <td>...</td>\n",
       "      <td>...</td>\n",
       "      <td>...</td>\n",
       "      <td>...</td>\n",
       "    </tr>\n",
       "    <tr>\n",
       "      <th>148825</th>\n",
       "      <td>0.305463</td>\n",
       "      <td>0.038035</td>\n",
       "      <td>0.024805</td>\n",
       "      <td>0.014317</td>\n",
       "    </tr>\n",
       "    <tr>\n",
       "      <th>148826</th>\n",
       "      <td>0.306352</td>\n",
       "      <td>0.037998</td>\n",
       "      <td>0.024806</td>\n",
       "      <td>0.014292</td>\n",
       "    </tr>\n",
       "    <tr>\n",
       "      <th>148827</th>\n",
       "      <td>0.307245</td>\n",
       "      <td>0.037950</td>\n",
       "      <td>0.024790</td>\n",
       "      <td>0.014287</td>\n",
       "    </tr>\n",
       "    <tr>\n",
       "      <th>148828</th>\n",
       "      <td>0.308179</td>\n",
       "      <td>0.037895</td>\n",
       "      <td>0.024767</td>\n",
       "      <td>0.014313</td>\n",
       "    </tr>\n",
       "    <tr>\n",
       "      <th>148829</th>\n",
       "      <td>0.309128</td>\n",
       "      <td>0.037904</td>\n",
       "      <td>0.024813</td>\n",
       "      <td>0.014301</td>\n",
       "    </tr>\n",
       "  </tbody>\n",
       "</table>\n",
       "<p>148830 rows × 4 columns</p>\n",
       "</div>"
      ],
      "text/plain": [
       "               0       0.1       0.2       0.3\n",
       "0       0.009406  0.000963  0.000344  0.000144\n",
       "1       0.019387  0.001922  0.000728  0.000299\n",
       "2       0.029962  0.002871  0.001077  0.000471\n",
       "3       0.041019  0.003817  0.001441  0.000610\n",
       "4       0.052452  0.004767  0.001764  0.000747\n",
       "...          ...       ...       ...       ...\n",
       "148825  0.305463  0.038035  0.024805  0.014317\n",
       "148826  0.306352  0.037998  0.024806  0.014292\n",
       "148827  0.307245  0.037950  0.024790  0.014287\n",
       "148828  0.308179  0.037895  0.024767  0.014313\n",
       "148829  0.309128  0.037904  0.024813  0.014301\n",
       "\n",
       "[148830 rows x 4 columns]"
      ]
     },
     "execution_count": 14,
     "metadata": {},
     "output_type": "execute_result"
    }
   ],
   "source": [
    "pd.read_csv('../data/EMG_based_hand_gesture/COMPLETE_1.csv')"
   ]
  },
  {
   "cell_type": "code",
   "execution_count": 18,
   "id": "70a29781-a583-4722-aeb1-1862cf5c00f2",
   "metadata": {
    "tags": []
   },
   "outputs": [
    {
     "data": {
      "text/html": [
       "<div>\n",
       "<style scoped>\n",
       "    .dataframe tbody tr th:only-of-type {\n",
       "        vertical-align: middle;\n",
       "    }\n",
       "\n",
       "    .dataframe tbody tr th {\n",
       "        vertical-align: top;\n",
       "    }\n",
       "\n",
       "    .dataframe thead th {\n",
       "        text-align: right;\n",
       "    }\n",
       "</style>\n",
       "<table border=\"1\" class=\"dataframe\">\n",
       "  <thead>\n",
       "    <tr style=\"text-align: right;\">\n",
       "      <th></th>\n",
       "      <th>1</th>\n",
       "    </tr>\n",
       "  </thead>\n",
       "  <tbody>\n",
       "    <tr>\n",
       "      <th>0</th>\n",
       "      <td>1</td>\n",
       "    </tr>\n",
       "    <tr>\n",
       "      <th>1</th>\n",
       "      <td>1</td>\n",
       "    </tr>\n",
       "    <tr>\n",
       "      <th>2</th>\n",
       "      <td>1</td>\n",
       "    </tr>\n",
       "    <tr>\n",
       "      <th>3</th>\n",
       "      <td>1</td>\n",
       "    </tr>\n",
       "    <tr>\n",
       "      <th>4</th>\n",
       "      <td>1</td>\n",
       "    </tr>\n",
       "    <tr>\n",
       "      <th>...</th>\n",
       "      <td>...</td>\n",
       "    </tr>\n",
       "    <tr>\n",
       "      <th>134329</th>\n",
       "      <td>1</td>\n",
       "    </tr>\n",
       "    <tr>\n",
       "      <th>134330</th>\n",
       "      <td>1</td>\n",
       "    </tr>\n",
       "    <tr>\n",
       "      <th>134331</th>\n",
       "      <td>1</td>\n",
       "    </tr>\n",
       "    <tr>\n",
       "      <th>134332</th>\n",
       "      <td>1</td>\n",
       "    </tr>\n",
       "    <tr>\n",
       "      <th>134333</th>\n",
       "      <td>1</td>\n",
       "    </tr>\n",
       "  </tbody>\n",
       "</table>\n",
       "<p>134334 rows × 1 columns</p>\n",
       "</div>"
      ],
      "text/plain": [
       "        1\n",
       "0       1\n",
       "1       1\n",
       "2       1\n",
       "3       1\n",
       "4       1\n",
       "...    ..\n",
       "134329  1\n",
       "134330  1\n",
       "134331  1\n",
       "134332  1\n",
       "134333  1\n",
       "\n",
       "[134334 rows x 1 columns]"
      ]
     },
     "execution_count": 18,
     "metadata": {},
     "output_type": "execute_result"
    }
   ],
   "source": [
    "pd.read_csv('../data/EMG_based_hand_gesture/LABEL_4.csv')"
   ]
  }
 ],
 "metadata": {
  "kernelspec": {
   "display_name": "Python 3 (ipykernel)",
   "language": "python",
   "name": "python3"
  },
  "language_info": {
   "codemirror_mode": {
    "name": "ipython",
    "version": 3
   },
   "file_extension": ".py",
   "mimetype": "text/x-python",
   "name": "python",
   "nbconvert_exporter": "python",
   "pygments_lexer": "ipython3",
   "version": "3.11.4"
  }
 },
 "nbformat": 4,
 "nbformat_minor": 5
}
